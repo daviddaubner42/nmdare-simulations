{
 "cells": [
  {
   "cell_type": "code",
   "execution_count": 3,
   "id": "f0d771fc",
   "metadata": {},
   "outputs": [],
   "source": [
    "import pickle\n",
    "import os\n",
    "import nibabel as nib\n",
    "import numpy as np\n",
    "import pandas as pd\n",
    "import matplotlib.pyplot as plt\n",
    "\n",
    "def FCuCorrelation(FC1, FC2, fisher=True):\n",
    "    u_idx = np.triu_indices_from(FC1, k=1)\n",
    "    FCu1 = FC1.copy()[u_idx]\n",
    "    FCu2 = FC2.copy()[u_idx]\n",
    "    if fisher:\n",
    "        FCu1 = np.arctanh(FCu1)\n",
    "        FCu2 = np.arctanh(FCu2)\n",
    "    FC_corr_upper = np.corrcoef(FCu1, FCu2)[0, 1]\n",
    "    return FC_corr_upper\n",
    "\n",
    "demo_data = pd.read_csv(f\"/Users/brainsimulation/Desktop/NMDARE_FC_Analysis/out/DesikanKilliany/demo_data.csv\")\n",
    "\n",
    "derivatives_dir = \"/Users/brainsimulation/Desktop/derivatives_dk_T2uniform/derivatives\"\n",
    "\n",
    "excluded = ['RSGK017', 'LENMDA001', 'LENMDA006', 'LENMDA172', 'LENMDA187', 'LENMDA191']\n",
    "subids = [subid[4:] for subid in os.listdir(os.path.join(derivatives_dir, \"xcp_d\")) if os.path.exists(os.path.join(derivatives_dir, \"xcp_d\", f\"{subid}\", \"func\", f\"{subid}_task-rest_space-fsLR_seg-DesikanKilliany_den-91k_stat-pearsoncorrelation_boldmap.pconn.nii\")) and subid[4:] not in excluded]\n"
   ]
  },
  {
   "cell_type": "code",
   "execution_count": null,
   "id": "192534d0",
   "metadata": {},
   "outputs": [
    {
     "name": "stderr",
     "output_type": "stream",
     "text": [
      "/var/folders/mn/q624n0lj15s26j52tyhh602h0000gn/T/ipykernel_3196/2236525035.py:13: DeprecationWarning: __array__ implementation doesn't accept a copy keyword, so passing copy=False failed. __array__ must implement 'dtype' and 'copy' keyword arguments. To learn more, see the migration guide https://numpy.org/devdocs/numpy_2_0_migration_guide.html#adapting-to-changes-in-the-copy-keyword\n",
      "  ts = np.array(nib.load(ts_fname).dataobj)\n"
     ]
    },
    {
     "ename": "ValueError",
     "evalue": "autodetected range of [nan, nan] is not finite",
     "output_type": "error",
     "traceback": [
      "\u001b[0;31m---------------------------------------------------------------------------\u001b[0m",
      "\u001b[0;31mValueError\u001b[0m                                Traceback (most recent call last)",
      "Cell \u001b[0;32mIn[4], line 32\u001b[0m\n\u001b[1;32m     29\u001b[0m     \u001b[38;5;28;01mfor\u001b[39;00m j \u001b[38;5;129;01min\u001b[39;00m \u001b[38;5;28mrange\u001b[39m(n_fcs):\n\u001b[1;32m     30\u001b[0m         FCD[i, j] \u001b[38;5;241m=\u001b[39m FCuCorrelation(sub_fcs[i], sub_fcs[j], fisher\u001b[38;5;241m=\u001b[39m\u001b[38;5;28;01mTrue\u001b[39;00m)\n\u001b[0;32m---> 32\u001b[0m hist \u001b[38;5;241m=\u001b[39m \u001b[43mnp\u001b[49m\u001b[38;5;241;43m.\u001b[39;49m\u001b[43mhistogram\u001b[49m\u001b[43m(\u001b[49m\u001b[43mFCD\u001b[49m\u001b[43m,\u001b[49m\u001b[43m \u001b[49m\u001b[38;5;241;43m100\u001b[39;49m\u001b[43m)\u001b[49m[\u001b[38;5;241m0\u001b[39m]\n\u001b[1;32m     34\u001b[0m os\u001b[38;5;241m.\u001b[39mmakedirs(\u001b[38;5;124mf\u001b[39m\u001b[38;5;124m\"\u001b[39m\u001b[38;5;132;01m{\u001b[39;00msubid\u001b[38;5;132;01m}\u001b[39;00m\u001b[38;5;124m\"\u001b[39m, exist_ok\u001b[38;5;241m=\u001b[39m\u001b[38;5;28;01mTrue\u001b[39;00m)\n\u001b[1;32m     35\u001b[0m np\u001b[38;5;241m.\u001b[39msavetxt(\u001b[38;5;124mf\u001b[39m\u001b[38;5;124m\"\u001b[39m\u001b[38;5;132;01m{\u001b[39;00msubid\u001b[38;5;132;01m}\u001b[39;00m\u001b[38;5;124m/FCD.csv\u001b[39m\u001b[38;5;124m\"\u001b[39m, FCD, delimiter\u001b[38;5;241m=\u001b[39m\u001b[38;5;124m'\u001b[39m\u001b[38;5;124m,\u001b[39m\u001b[38;5;124m'\u001b[39m)\n",
      "File \u001b[0;32m~/miniconda3/lib/python3.13/site-packages/numpy/lib/_histograms_impl.py:796\u001b[0m, in \u001b[0;36mhistogram\u001b[0;34m(a, bins, range, density, weights)\u001b[0m\n\u001b[1;32m    691\u001b[0m \u001b[38;5;250m\u001b[39m\u001b[38;5;124mr\u001b[39m\u001b[38;5;124;03m\"\"\"\u001b[39;00m\n\u001b[1;32m    692\u001b[0m \u001b[38;5;124;03mCompute the histogram of a dataset.\u001b[39;00m\n\u001b[1;32m    693\u001b[0m \n\u001b[0;32m   (...)\u001b[0m\n\u001b[1;32m    792\u001b[0m \n\u001b[1;32m    793\u001b[0m \u001b[38;5;124;03m\"\"\"\u001b[39;00m\n\u001b[1;32m    794\u001b[0m a, weights \u001b[38;5;241m=\u001b[39m _ravel_and_check_weights(a, weights)\n\u001b[0;32m--> 796\u001b[0m bin_edges, uniform_bins \u001b[38;5;241m=\u001b[39m \u001b[43m_get_bin_edges\u001b[49m\u001b[43m(\u001b[49m\u001b[43ma\u001b[49m\u001b[43m,\u001b[49m\u001b[43m \u001b[49m\u001b[43mbins\u001b[49m\u001b[43m,\u001b[49m\u001b[43m \u001b[49m\u001b[38;5;28;43mrange\u001b[39;49m\u001b[43m,\u001b[49m\u001b[43m \u001b[49m\u001b[43mweights\u001b[49m\u001b[43m)\u001b[49m\n\u001b[1;32m    798\u001b[0m \u001b[38;5;66;03m# Histogram is an integer or a float array depending on the weights.\u001b[39;00m\n\u001b[1;32m    799\u001b[0m \u001b[38;5;28;01mif\u001b[39;00m weights \u001b[38;5;129;01mis\u001b[39;00m \u001b[38;5;28;01mNone\u001b[39;00m:\n",
      "File \u001b[0;32m~/miniconda3/lib/python3.13/site-packages/numpy/lib/_histograms_impl.py:429\u001b[0m, in \u001b[0;36m_get_bin_edges\u001b[0;34m(a, bins, range, weights)\u001b[0m\n\u001b[1;32m    426\u001b[0m     \u001b[38;5;28;01mif\u001b[39;00m n_equal_bins \u001b[38;5;241m<\u001b[39m \u001b[38;5;241m1\u001b[39m:\n\u001b[1;32m    427\u001b[0m         \u001b[38;5;28;01mraise\u001b[39;00m \u001b[38;5;167;01mValueError\u001b[39;00m(\u001b[38;5;124m'\u001b[39m\u001b[38;5;124m`bins` must be positive, when an integer\u001b[39m\u001b[38;5;124m'\u001b[39m)\n\u001b[0;32m--> 429\u001b[0m     first_edge, last_edge \u001b[38;5;241m=\u001b[39m \u001b[43m_get_outer_edges\u001b[49m\u001b[43m(\u001b[49m\u001b[43ma\u001b[49m\u001b[43m,\u001b[49m\u001b[43m \u001b[49m\u001b[38;5;28;43mrange\u001b[39;49m\u001b[43m)\u001b[49m\n\u001b[1;32m    431\u001b[0m \u001b[38;5;28;01melif\u001b[39;00m np\u001b[38;5;241m.\u001b[39mndim(bins) \u001b[38;5;241m==\u001b[39m \u001b[38;5;241m1\u001b[39m:\n\u001b[1;32m    432\u001b[0m     bin_edges \u001b[38;5;241m=\u001b[39m np\u001b[38;5;241m.\u001b[39masarray(bins)\n",
      "File \u001b[0;32m~/miniconda3/lib/python3.13/site-packages/numpy/lib/_histograms_impl.py:322\u001b[0m, in \u001b[0;36m_get_outer_edges\u001b[0;34m(a, range)\u001b[0m\n\u001b[1;32m    320\u001b[0m     first_edge, last_edge \u001b[38;5;241m=\u001b[39m a\u001b[38;5;241m.\u001b[39mmin(), a\u001b[38;5;241m.\u001b[39mmax()\n\u001b[1;32m    321\u001b[0m     \u001b[38;5;28;01mif\u001b[39;00m \u001b[38;5;129;01mnot\u001b[39;00m (np\u001b[38;5;241m.\u001b[39misfinite(first_edge) \u001b[38;5;129;01mand\u001b[39;00m np\u001b[38;5;241m.\u001b[39misfinite(last_edge)):\n\u001b[0;32m--> 322\u001b[0m         \u001b[38;5;28;01mraise\u001b[39;00m \u001b[38;5;167;01mValueError\u001b[39;00m(\n\u001b[1;32m    323\u001b[0m             \u001b[38;5;124m\"\u001b[39m\u001b[38;5;124mautodetected range of [\u001b[39m\u001b[38;5;132;01m{}\u001b[39;00m\u001b[38;5;124m, \u001b[39m\u001b[38;5;132;01m{}\u001b[39;00m\u001b[38;5;124m] is not finite\u001b[39m\u001b[38;5;124m\"\u001b[39m\u001b[38;5;241m.\u001b[39mformat(first_edge, last_edge))\n\u001b[1;32m    325\u001b[0m \u001b[38;5;66;03m# expand empty range to avoid divide by zero\u001b[39;00m\n\u001b[1;32m    326\u001b[0m \u001b[38;5;28;01mif\u001b[39;00m first_edge \u001b[38;5;241m==\u001b[39m last_edge:\n",
      "\u001b[0;31mValueError\u001b[0m: autodetected range of [nan, nan] is not finite"
     ]
    }
   ],
   "source": [
    "window_size = 30\n",
    "step_size = 1\n",
    "\n",
    "nmdare_FCDs = []\n",
    "nmdare_hists = []\n",
    "hc_FCDs = []\n",
    "hc_hists = []\n",
    "\n",
    "with open(f\"/Users/brainsimulation/Desktop/NMDARE_FC_Analysis/out/DesikanKilliany/to_delete_network.pkl\", \"rb\") as file:\n",
    "    to_delete = pickle.load(file)\n",
    "\n",
    "for subid in subids:\n",
    "    xcp_func_folder = os.path.join(derivatives_dir, \"xcp_d\", f\"sub-{subid}\", \"func\")\n",
    "\n",
    "    ts_fname = os.path.join(xcp_func_folder, f\"sub-{subid}_task-rest_space-fsLR_seg-DesikanKilliany_den-91k_stat-mean_timeseries.ptseries.nii\")\n",
    "    ts = np.array(nib.load(ts_fname).dataobj)\n",
    "\n",
    "    n_windows = len(range(0, ts.shape[0] - window_size, step_size))\n",
    "\n",
    "    sub_fcs = []\n",
    "    for i in range(0, ts.shape[0] - window_size, step_size):\n",
    "        window_ts = ts[i:i + window_size, :]\n",
    "        window_ts = np.delete(window_ts, to_delete, 1)\n",
    "        window_ts = window_ts[:66]\n",
    "\n",
    "        fc = np.corrcoef(window_ts, rowvar=False)\n",
    "        np.fill_diagonal(fc, np.nan)\n",
    "        sub_fcs.append(fc)\n",
    "    \n",
    "    n_fcs = len(sub_fcs)\n",
    "\n",
    "    FCD = np.zeros((n_fcs, n_fcs))\n",
    "    for i in range(n_fcs):\n",
    "        for j in range(n_fcs):\n",
    "            FCD[i, j] = FCuCorrelation(sub_fcs[i], sub_fcs[j], fisher=True)\n",
    "    \n",
    "    hist = np.histogram(FCD, 100)[0]\n",
    "\n",
    "    os.makedirs(f\"{subid}\", exist_ok=True)\n",
    "    np.savetxt(f\"{subid}/FCD.csv\", FCD, delimiter=',')\n",
    "    np.savetxt(f\"{subid}/hist.csv\", hist, delimiter=',')\n",
    "\n",
    "    if demo_data.loc[demo_data[\"ID\"] == subid][\"nmdare\"].item() == 1:\n",
    "        nmdare_FCDs.append(FCD)\n",
    "        nmdare_hists.append(hist)\n",
    "    else:\n",
    "        hc_FCDs.append(FCD)\n",
    "        hc_hists.append(hist)\n",
    "    \n",
    "np.savetxt(\"nmdare_FCDs.csv\", nmdare_FCDs, delimiter=',')\n",
    "np.savetxt(\"hc_FCDs.csv\", hc_FCDs, delimiter=',')\n",
    "np.savetxt(\"nmdare_hists.csv\", nmdare_hists, delimiter=',')\n",
    "np.savetxt(\"hc_hists.csv\", hc_hists, delimiter=',')"
   ]
  },
  {
   "cell_type": "code",
   "execution_count": 9,
   "id": "bfff1d8e",
   "metadata": {},
   "outputs": [
    {
     "data": {
      "text/plain": [
       "(112, 112)"
      ]
     },
     "execution_count": 9,
     "metadata": {},
     "output_type": "execute_result"
    }
   ],
   "source": [
    "sub_fcs[10].shape"
   ]
  }
 ],
 "metadata": {
  "kernelspec": {
   "display_name": "base",
   "language": "python",
   "name": "python3"
  },
  "language_info": {
   "codemirror_mode": {
    "name": "ipython",
    "version": 3
   },
   "file_extension": ".py",
   "mimetype": "text/x-python",
   "name": "python",
   "nbconvert_exporter": "python",
   "pygments_lexer": "ipython3",
   "version": "3.13.5"
  }
 },
 "nbformat": 4,
 "nbformat_minor": 5
}
