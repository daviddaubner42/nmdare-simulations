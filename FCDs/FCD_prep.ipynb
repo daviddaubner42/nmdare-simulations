{
 "cells": [
  {
   "cell_type": "code",
   "execution_count": 3,
   "id": "f0d771fc",
   "metadata": {},
   "outputs": [],
   "source": [
    "import pickle\n",
    "import os\n",
    "import nibabel as nib\n",
    "import numpy as np\n",
    "import pandas as pd\n",
    "import matplotlib.pyplot as plt\n",
    "\n",
    "def FCuCorrelation(FC1, FC2, fisher=True):\n",
    "    u_idx = np.triu_indices_from(FC1, k=1)\n",
    "    FCu1 = FC1.copy()[u_idx]\n",
    "    FCu2 = FC2.copy()[u_idx]\n",
    "    if fisher:\n",
    "        FCu1 = np.arctanh(FCu1)\n",
    "        FCu2 = np.arctanh(FCu2)\n",
    "    FC_corr_upper = np.corrcoef(FCu1, FCu2)[0, 1]\n",
    "    return FC_corr_upper\n",
    "\n",
    "demo_data = pd.read_csv(f\"/Users/brainsimulation/Desktop/NMDARE_FC_Analysis/out/DesikanKilliany/demo_data.csv\")\n",
    "\n",
    "derivatives_dir = \"/Users/brainsimulation/Desktop/derivatives_dk_T2uniform/derivatives\"\n",
    "\n",
    "excluded = ['RSGK017', 'LENMDA001', 'LENMDA006', 'LENMDA172', 'LENMDA187', 'LENMDA191']\n",
    "subids = [subid[4:] for subid in os.listdir(os.path.join(derivatives_dir, \"xcp_d\")) if os.path.exists(os.path.join(derivatives_dir, \"xcp_d\", f\"{subid}\", \"func\", f\"{subid}_task-rest_space-fsLR_seg-DesikanKilliany_den-91k_stat-pearsoncorrelation_boldmap.pconn.nii\")) and subid[4:] not in excluded]\n"
   ]
  },
  {
   "cell_type": "code",
   "execution_count": null,
   "id": "192534d0",
   "metadata": {},
   "outputs": [
    {
     "name": "stderr",
     "output_type": "stream",
     "text": [
      "/var/folders/mn/q624n0lj15s26j52tyhh602h0000gn/T/ipykernel_3196/4120545357.py:16: DeprecationWarning: __array__ implementation doesn't accept a copy keyword, so passing copy=False failed. __array__ must implement 'dtype' and 'copy' keyword arguments. To learn more, see the migration guide https://numpy.org/devdocs/numpy_2_0_migration_guide.html#adapting-to-changes-in-the-copy-keyword\n",
      "  ts = np.array(nib.load(ts_fname).dataobj)\n"
     ]
    },
    {
     "ename": "ValueError",
     "evalue": "Expected 1D or 2D array, got 3D array instead",
     "output_type": "error",
     "traceback": [
      "\u001b[0;31m---------------------------------------------------------------------------\u001b[0m",
      "\u001b[0;31mValueError\u001b[0m                                Traceback (most recent call last)",
      "Cell \u001b[0;32mIn[10], line 50\u001b[0m\n\u001b[1;32m     47\u001b[0m         hc_FCDs\u001b[38;5;241m.\u001b[39mappend(FCD)\n\u001b[1;32m     48\u001b[0m         hc_hists\u001b[38;5;241m.\u001b[39mappend(hist)\n\u001b[0;32m---> 50\u001b[0m \u001b[43mnp\u001b[49m\u001b[38;5;241;43m.\u001b[39;49m\u001b[43msavetxt\u001b[49m\u001b[43m(\u001b[49m\u001b[38;5;124;43m\"\u001b[39;49m\u001b[38;5;124;43mnmdare_FCDs.csv\u001b[39;49m\u001b[38;5;124;43m\"\u001b[39;49m\u001b[43m,\u001b[49m\u001b[43m \u001b[49m\u001b[43mnmdare_FCDs\u001b[49m\u001b[43m,\u001b[49m\u001b[43m \u001b[49m\u001b[43mdelimiter\u001b[49m\u001b[38;5;241;43m=\u001b[39;49m\u001b[38;5;124;43m'\u001b[39;49m\u001b[38;5;124;43m,\u001b[39;49m\u001b[38;5;124;43m'\u001b[39;49m\u001b[43m)\u001b[49m\n\u001b[1;32m     51\u001b[0m np\u001b[38;5;241m.\u001b[39msavetxt(\u001b[38;5;124m\"\u001b[39m\u001b[38;5;124mhc_FCDs.csv\u001b[39m\u001b[38;5;124m\"\u001b[39m, hc_FCDs, delimiter\u001b[38;5;241m=\u001b[39m\u001b[38;5;124m'\u001b[39m\u001b[38;5;124m,\u001b[39m\u001b[38;5;124m'\u001b[39m)\n\u001b[1;32m     52\u001b[0m np\u001b[38;5;241m.\u001b[39msavetxt(\u001b[38;5;124m\"\u001b[39m\u001b[38;5;124mnmdare_hists.csv\u001b[39m\u001b[38;5;124m\"\u001b[39m, nmdare_hists, delimiter\u001b[38;5;241m=\u001b[39m\u001b[38;5;124m'\u001b[39m\u001b[38;5;124m,\u001b[39m\u001b[38;5;124m'\u001b[39m)\n",
      "File \u001b[0;32m~/miniconda3/lib/python3.13/site-packages/numpy/lib/_npyio_impl.py:1577\u001b[0m, in \u001b[0;36msavetxt\u001b[0;34m(fname, X, fmt, delimiter, newline, header, footer, comments, encoding)\u001b[0m\n\u001b[1;32m   1575\u001b[0m \u001b[38;5;66;03m# Handle 1-dimensional arrays\u001b[39;00m\n\u001b[1;32m   1576\u001b[0m \u001b[38;5;28;01mif\u001b[39;00m X\u001b[38;5;241m.\u001b[39mndim \u001b[38;5;241m==\u001b[39m \u001b[38;5;241m0\u001b[39m \u001b[38;5;129;01mor\u001b[39;00m X\u001b[38;5;241m.\u001b[39mndim \u001b[38;5;241m>\u001b[39m \u001b[38;5;241m2\u001b[39m:\n\u001b[0;32m-> 1577\u001b[0m     \u001b[38;5;28;01mraise\u001b[39;00m \u001b[38;5;167;01mValueError\u001b[39;00m(\n\u001b[1;32m   1578\u001b[0m         \u001b[38;5;124m\"\u001b[39m\u001b[38;5;124mExpected 1D or 2D array, got \u001b[39m\u001b[38;5;132;01m%d\u001b[39;00m\u001b[38;5;124mD array instead\u001b[39m\u001b[38;5;124m\"\u001b[39m \u001b[38;5;241m%\u001b[39m X\u001b[38;5;241m.\u001b[39mndim)\n\u001b[1;32m   1579\u001b[0m \u001b[38;5;28;01melif\u001b[39;00m X\u001b[38;5;241m.\u001b[39mndim \u001b[38;5;241m==\u001b[39m \u001b[38;5;241m1\u001b[39m:\n\u001b[1;32m   1580\u001b[0m     \u001b[38;5;66;03m# Common case -- 1d array of numbers\u001b[39;00m\n\u001b[1;32m   1581\u001b[0m     \u001b[38;5;28;01mif\u001b[39;00m X\u001b[38;5;241m.\u001b[39mdtype\u001b[38;5;241m.\u001b[39mnames \u001b[38;5;129;01mis\u001b[39;00m \u001b[38;5;28;01mNone\u001b[39;00m:\n",
      "\u001b[0;31mValueError\u001b[0m: Expected 1D or 2D array, got 3D array instead"
     ]
    }
   ],
   "source": [
    "window_size = 30\n",
    "step_size = 1\n",
    "\n",
    "nmdare_FCDs = []\n",
    "nmdare_hists = []\n",
    "hc_FCDs = []\n",
    "hc_hists = []\n",
    "\n",
    "with open(f\"/Users/brainsimulation/Desktop/NMDARE_FC_Analysis/out/DesikanKilliany/to_delete_network.pkl\", \"rb\") as file:\n",
    "    to_delete = pickle.load(file)\n",
    "\n",
    "for subid in subids:\n",
    "    xcp_func_folder = os.path.join(derivatives_dir, \"xcp_d\", f\"sub-{subid}\", \"func\")\n",
    "\n",
    "    ts_fname = os.path.join(xcp_func_folder, f\"sub-{subid}_task-rest_space-fsLR_seg-DesikanKilliany_den-91k_stat-mean_timeseries.ptseries.nii\")\n",
    "    ts = np.array(nib.load(ts_fname).dataobj)\n",
    "\n",
    "    n_windows = len(range(0, ts.shape[0] - window_size, step_size))\n",
    "\n",
    "    sub_fcs = []\n",
    "    for i in range(0, ts.shape[0] - window_size, step_size):\n",
    "        window_ts = ts[i:i + window_size, :]\n",
    "        window_ts = np.delete(window_ts, to_delete, 1)\n",
    "        window_ts = window_ts[:66]\n",
    "\n",
    "        fc = np.corrcoef(window_ts, rowvar=False)\n",
    "        np.fill_diagonal(fc, np.nan)\n",
    "        sub_fcs.append(fc)\n",
    "    \n",
    "    n_fcs = len(sub_fcs)\n",
    "\n",
    "    FCD = np.zeros((n_fcs, n_fcs))\n",
    "    for i in range(n_fcs):\n",
    "        for j in range(n_fcs):\n",
    "            FCD[i, j] = FCuCorrelation(sub_fcs[i], sub_fcs[j], fisher=True)\n",
    "    \n",
    "    hist = np.histogram(FCD, 100)[0]\n",
    "\n",
    "    os.makedirs(f\"{subid}\", exist_ok=True)\n",
    "    np.savetxt(f\"{subid}/FCD.csv\", FCD, delimiter=',')\n",
    "    np.savetxt(f\"{subid}/hist.csv\", hist, delimiter=',')\n",
    "\n",
    "    if demo_data.loc[demo_data[\"ID\"] == subid][\"nmdare\"].item() == 1:\n",
    "        nmdare_FCDs.append(FCD)\n",
    "        nmdare_hists.append(hist)\n",
    "    else:\n",
    "        hc_FCDs.append(FCD)\n",
    "        hc_hists.append(hist)\n",
    "    \n",
    "with open(\"nmdare_FCDs.csv\", \"wb\") as f:\n",
    "    pickle.dump(nmdare_FCDs, f)\n",
    "with open(\"nmdare_hists.csv\", \"wb\") as f:\n",
    "    pickle.dump(nmdare_hists, f)\n",
    "with open(\"hc_FCDs.csv\", \"wb\") as f:\n",
    "    pickle.dump(hc_FCDs, f)\n",
    "with open(\"hc_hists.csv\", \"wb\") as f:\n",
    "    pickle.dump(hc_hists, f)"
   ]
  }
 ],
 "metadata": {
  "kernelspec": {
   "display_name": "base",
   "language": "python",
   "name": "python3"
  },
  "language_info": {
   "codemirror_mode": {
    "name": "ipython",
    "version": 3
   },
   "file_extension": ".py",
   "mimetype": "text/x-python",
   "name": "python",
   "nbconvert_exporter": "python",
   "pygments_lexer": "ipython3",
   "version": "3.13.5"
  }
 },
 "nbformat": 4,
 "nbformat_minor": 5
}
