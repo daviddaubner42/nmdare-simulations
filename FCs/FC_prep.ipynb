{
 "cells": [
  {
   "cell_type": "code",
   "execution_count": null,
   "id": "f0561d49",
   "metadata": {},
   "outputs": [
    {
     "name": "stderr",
     "output_type": "stream",
     "text": [
      "/var/folders/mn/q624n0lj15s26j52tyhh602h0000gn/T/ipykernel_85259/1013974118.py:37: DeprecationWarning: __array__ implementation doesn't accept a copy keyword, so passing copy=False failed. __array__ must implement 'dtype' and 'copy' keyword arguments. To learn more, see the migration guide https://numpy.org/devdocs/numpy_2_0_migration_guide.html#adapting-to-changes-in-the-copy-keyword\n",
      "  ts = np.array(nib.load(ts_fname).dataobj)\n"
     ]
    }
   ],
   "source": [
    "import os\n",
    "import pandas as pd\n",
    "import pickle\n",
    "import numpy as np\n",
    "import nibabel as nib\n",
    "\n",
    "def fc_matrix(ts, cutoff=5):\n",
    "    ts = ts[cutoff:]\n",
    "\n",
    "    fc = np.corrcoef(ts, rowvar=False)\n",
    "\n",
    "    return fc\n",
    "\n",
    "atlas = \"DesikanKilliany\"\n",
    "derivatives_dir = \"/Users/brainsimulation/Desktop/derivatives_dk_T2uniform/derivatives\"\n",
    "os.makedirs(f\"out/{atlas}\", exist_ok=True)\n",
    "demo_data = pd.read_csv(\"/Users/brainsimulation/Desktop/NMDARE_FC_Analysis/out/DesikanKilliany/demo_data.csv\")\n",
    "excluded = ['RSGK017', 'LENMDA001', 'LENMDA006', 'LENMDA172', 'LENMDA187', 'LENMDA191']\n",
    "subids = [subid[4:] for subid in os.listdir(os.path.join(derivatives_dir, \"xcp_d\")) if os.path.exists(os.path.join(derivatives_dir, \"xcp_d\", f\"{subid}\", \"func\", f\"{subid}_task-rest_space-fsLR_seg-{atlas}_den-91k_stat-pearsoncorrelation_boldmap.pconn.nii\")) and subid[4:] not in excluded]\n",
    "\n",
    "with open(f'/Users/brainsimulation/Desktop/NMDARE_FC_Analysis/out/{atlas}/to_delete_network.pkl', 'rb') as f:\n",
    "    to_delete_network = pickle.load(f)\n",
    "\n",
    "with open(f'/Users/brainsimulation/Desktop/NMDARE_FC_Analysis/out/{atlas}/network_labels.pkl', 'rb') as f:\n",
    "    network_labels = pickle.load(f)\n",
    "\n",
    "nmdare_fcs = []\n",
    "hc_fcs = []\n",
    "\n",
    "for subid in subids:\n",
    "\n",
    "    xcp_func_folder = os.path.join(derivatives_dir, \"xcp_d\", f\"sub-{subid}\", \"func\")\n",
    "\n",
    "    ts_fname = os.path.join(xcp_func_folder, f\"sub-{subid}_task-rest_space-fsLR_seg-{atlas}_den-91k_stat-mean_timeseries.ptseries.nii\")    \n",
    "    ts = np.array(nib.load(ts_fname).dataobj)\n",
    "    ts = np.delete(ts, to_delete_network, 1)\n",
    "\n",
    "    fc = fc_matrix(ts)\n",
    "\n",
    "    os.makedirs(f\"sub-{subid}\", exist_ok=True)\n",
    "    np.savetxt(f\"sub-{subid}/FC.csv\", fc, delimiter=',')\n",
    "\n",
    "    if demo_data.loc[demo_data[\"ID\"] == subid].nmdare.item() == 1:\n",
    "        nmdare_fcs.append(fc)\n",
    "    elif demo_data.loc[demo_data[\"ID\"] == subid].nmdare.item() == 0:\n",
    "        hc_fcs.append(fc)\n",
    "\n",
    "avg_nmdare_fc = np.mean(nmdare_fcs, axis=0)\n",
    "avg_hc_fc = np.mean(hc_fcs, axis=0)\n",
    "\n",
    "np.savetxt(f\"avg_nmdare_fc.csv\", avg_nmdare_fc, delimiter=',')\n",
    "np.savetxt(f\"avg_hc_fc.csv\", avg_hc_fc, delimiter=',')"
   ]
  }
 ],
 "metadata": {
  "kernelspec": {
   "display_name": "neuro",
   "language": "python",
   "name": "python3"
  },
  "language_info": {
   "codemirror_mode": {
    "name": "ipython",
    "version": 3
   },
   "file_extension": ".py",
   "mimetype": "text/x-python",
   "name": "python",
   "nbconvert_exporter": "python",
   "pygments_lexer": "ipython3",
   "version": "3.13.7"
  }
 },
 "nbformat": 4,
 "nbformat_minor": 5
}
